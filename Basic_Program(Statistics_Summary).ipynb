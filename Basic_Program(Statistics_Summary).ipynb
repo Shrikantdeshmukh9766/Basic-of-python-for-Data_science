{
 "cells": [
  {
   "cell_type": "markdown",
   "metadata": {},
   "source": [
    "# Mean_var_S.D_C.V "
   ]
  },
  {
   "cell_type": "code",
   "execution_count": 1,
   "metadata": {},
   "outputs": [
    {
     "name": "stdout",
     "output_type": "stream",
     "text": [
      "Samples= [1, 2, 3, 4, 5, 6, 7, 8, 9, 10]\n",
      "sample_size 10\n",
      "mean= 5.5 var= 8.25 sd= 2.8722813232690143 cv= 52.22329678670935\n"
     ]
    }
   ],
   "source": [
    "###########mean,sd,cv,################\n",
    "#x = [(i) for i in input().split()]\n",
    "x=[1,2,3,4,5,6,7,8,9,10]\n",
    "sum=0\n",
    "sum1=0\n",
    "n=len(x)\n",
    "print('Samples=',x)\n",
    "print('sample_size',n)\n",
    "for i in range(n):\n",
    "    sum=sum+x[i]\n",
    "avg=sum/n\n",
    "for i in range(n):\n",
    "    sum1=sum1+pow((x[i]-avg),2)\n",
    "var=sum1/(n)\n",
    "import math\n",
    "sd=math.sqrt(var)\n",
    "cv=(sd/avg)*100\n",
    "print('mean=',avg,'var=',var,'sd=',sd,'cv=',cv)"
   ]
  },
  {
   "cell_type": "code",
   "execution_count": 2,
   "metadata": {},
   "outputs": [
    {
     "name": "stdout",
     "output_type": "stream",
     "text": [
      "Enter the hypothetical mean\n",
      "5\n",
      "0.5222\n",
      "Test statistics= 0.5222 P-value= 0.6075664108143184\n",
      "Null hypothesis is accepted\n"
     ]
    }
   ],
   "source": [
    "#########T test##############\n",
    "import math\n",
    "from scipy import stats\n",
    "x=[1,2,3,4,5,6,7,8,9,10]\n",
    "print(\"Enter the hypothetical mean\")\n",
    "m=float(input())\n",
    "sum=0;sum1=0;n=len(x)\n",
    "for i in range(n):\n",
    " sum+=x[i]\n",
    "smean=sum/n\n",
    "for i in range(n):\n",
    " sum1+=pow((x[i]-smean),2)\n",
    "var=sum1/(n-1)\n",
    "sd=math.sqrt(var)\n",
    "T=math.sqrt(n)*(smean-m)/sd\n",
    "T=round(T,4)\n",
    "print(T)\n",
    "df=2*n-1\n",
    "p=(1-stats.t.cdf(T,df=df))*2\n",
    "print('Test statistics=',T,'P-value=',p)\n",
    "if p>=0.05:\n",
    "    print(\"Null hypothesis is accepted\")\n",
    "else: \n",
    "    print(\"Null hypothesis is rejected\")    "
   ]
  },
  {
   "cell_type": "markdown",
   "metadata": {},
   "source": [
    "# Ascending/Descending of Number"
   ]
  },
  {
   "cell_type": "code",
   "execution_count": 6,
   "metadata": {},
   "outputs": [
    {
     "name": "stdout",
     "output_type": "stream",
     "text": [
      "100\n",
      "55\n",
      "12\n",
      "-3\n",
      "-4\n",
      " \n",
      "-4\n",
      "-3\n",
      "-1\n",
      "5\n",
      "15\n"
     ]
    }
   ],
   "source": [
    "#########ascending of number###########\n",
    "x=[55,-4,-3,12,100]\n",
    "y=[-1,5,-3,-4,15]\n",
    "n1=len(x)\n",
    "n2=len(y)\n",
    "for i in range(0,n1-1):\n",
    "    for j in range(i+1,n1):\n",
    "        if (x[i]<=x[j]):\n",
    "            temp=x[i]\n",
    "            x[i]=x[j]\n",
    "            x[j]=temp\n",
    "for i in range(0,n1):\n",
    " print(x[i])\n",
    "print(\" \")\n",
    "#########decending number##############\n",
    "for i in range(0,n2-1):\n",
    "    for j in range(i+1,n2):\n",
    "        if (y[i]>=y[j]):\n",
    "            temp=y[i]\n",
    "            y[i]=y[j]\n",
    "            y[j]=temp\n",
    "for i in range(0,n2):\n",
    " print(y[i])"
   ]
  },
  {
   "cell_type": "markdown",
   "metadata": {},
   "source": [
    "# Sum of odd even number"
   ]
  },
  {
   "cell_type": "code",
   "execution_count": 12,
   "metadata": {},
   "outputs": [
    {
     "name": "stdout",
     "output_type": "stream",
     "text": [
      "sum of even numbers 30\n",
      "sum of odd numbers 25\n"
     ]
    }
   ],
   "source": [
    "sum,sum1=0,0;n=10\n",
    "for i in range(0,n+1):\n",
    "    if i%2==0:\n",
    "        sum+=i\n",
    "    else:\n",
    "        sum1+=i\n",
    "print(\"sum of even numbers\",sum)\n",
    "print(\"sum of odd numbers\",sum1)"
   ]
  },
  {
   "cell_type": "markdown",
   "metadata": {},
   "source": [
    "# Random Number Generation"
   ]
  },
  {
   "cell_type": "code",
   "execution_count": 6,
   "metadata": {},
   "outputs": [
    {
     "name": "stdout",
     "output_type": "stream",
     "text": [
      "Enter value of theta2\n",
      "number of samples you required5\n",
      "random samples from exp( 2.0 ) [2.8252766729189847, 12.63993722816001, 1.9637929779442975, 0.02921230477872423, 4.2673731130644645]\n"
     ]
    }
   ],
   "source": [
    "########random samples from exponential\n",
    "import math\n",
    "import random\n",
    "theta=float(input(\"Enter value of theta\"))\n",
    "\n",
    "n=int(input(\"number of samples you required\"))\n",
    "x=list()\n",
    "for i in range(n):\n",
    "    n=-theta*math.log(1-round(random.uniform(0,1),4))\n",
    "    x.append(n)\n",
    "print('random samples from exp(',theta,')',x)\n",
    "\n"
   ]
  },
  {
   "cell_type": "code",
   "execution_count": null,
   "metadata": {},
   "outputs": [],
   "source": []
  }
 ],
 "metadata": {
  "kernelspec": {
   "display_name": "Python 3",
   "language": "python",
   "name": "python3"
  },
  "language_info": {
   "codemirror_mode": {
    "name": "ipython",
    "version": 3
   },
   "file_extension": ".py",
   "mimetype": "text/x-python",
   "name": "python",
   "nbconvert_exporter": "python",
   "pygments_lexer": "ipython3",
   "version": "3.7.3"
  }
 },
 "nbformat": 4,
 "nbformat_minor": 2
}
